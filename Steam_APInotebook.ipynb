{
 "cells": [
  {
   "cell_type": "code",
   "execution_count": 1,
   "metadata": {},
   "outputs": [],
   "source": [
    "import json\n",
    "import pandas as pd\n",
    "import requests\n",
    "\n",
    "#url to get achivement percentages (completion %) per game id\n",
    "#url format: http://api.steampowered.com/ISteamUserStats/GetGlobalAchievementPercentagesForApp/v0002/?gameid={game_id}&format=json\n",
    "queryurl = f\"http://api.steampowered.com/ISteamUserStats/GetGlobalAchievementPercentagesForApp/v0002/?gameid=\"\n"
   ]
  },
  {
   "cell_type": "code",
   "execution_count": 2,
   "metadata": {},
   "outputs": [],
   "source": [
    "#going to use top 100 game ids - need import (random games for now to test)\n",
    "game_ids = ['359310', '648800', '221910']\n",
    "\n",
    "#list to hold response info\n",
    "achieves = []\n",
    "achname = []"
   ]
  },
  {
   "cell_type": "code",
   "execution_count": 3,
   "metadata": {},
   "outputs": [],
   "source": [
    "for g_id in game_ids:\n",
    "        response = requests.get(queryurl + g_id + '&format=json').json()\n",
    "        achieves.append(response['achievementpercentages']['achievements'][1]['percent'])       \n",
    "        achname.append(response['achievementpercentages']['achievements'][0]['name'])"
   ]
  },
  {
   "cell_type": "code",
   "execution_count": 19,
   "metadata": {},
   "outputs": [
    {
     "name": "stdout",
     "output_type": "stream",
     "text": [
      "['worldmap', 'ach_survivor_day', 'TSP_BEATTHEGAME']\n"
     ]
    }
   ],
   "source": [
    "#create dataframe of games and achievement % completion\n",
    "ach_dict = {\n",
    "    \"Game_ID\":game_ids,\n",
    "    \"Achievement_Name\":achname,\n",
    "    \"Achievment_PC\": achieves\n",
    "}\n",
    "\n",
    "achievements = pd.DataFrame(ach_dict)\n",
    "achievements.head()\n",
    "print(achname)"
   ]
  },
  {
   "cell_type": "code",
   "execution_count": 18,
   "metadata": {},
   "outputs": [
    {
     "name": "stdout",
     "output_type": "stream",
     "text": [
      "['worldmap', 'trim', 'fina', 'weed', 'mgs', 'menos', 'chitchat', 'future', 'bridge', 'scholar', 'mma', 'velvet', 'cardgame', 'hero', 'dual', 'bioshock', 'dragon', 'sylves2', 'antik', 'glitch', 'lostviking', 'sylves', 'match', 'flyingm', 'battle', 'fragments', 'doubletap', 'gold', 'zelda', 'velvetp', 'finap', 'tombr', 'menosp', 'creeper', 'collector', 'lvl', 'starp', 'pokerface', 'ach_survivor_day', 'ach_build_foundation_10', 'ach_gatherer_100', 'ach_build_purifierOne', 'ach_survivor_week', 'ach_sharkKiller_1', 'ach_build_cookingstandOne', 'ach_playwithfriend', 'ach_birdKiller_1', 'ach_sailor', 'ach_survivor_month', 'ach_build_foundation_100', 'ach_radiotower', 'ach_reach_bigIsland', 'ach_cookedRecipe', 'ach_sharkKiller_10', 'ach_gatherer_500', 'ach_boarKiller_1', 'ach_birdKiller_10', 'ach_ratKiller_1', 'ach_vasagatan_Bomb', 'ach_researcher', 'ach_ratKiller_10', 'ach_pufferKiller_1', 'ach_bearKiller_1', 'ach_build_reorganizer', 'ach_allNotes_Vasagatan', 'ach_captureAnimal_1', 'ach_allNotes_RadioTower', 'ach_balboaBicycle', 'ach_stoneBirdKiller_1', 'ach_tinyLittleMurderer', 'ach_brunosToolboard', 'ach_farmer', 'ach_reach_captainIsland', 'ach_reach_pilotIsland', 'ach_hoarder', 'ach_fixErrol', 'ach_build_painter_50', 'ach_diveDeep', 'ach_bearKiller_10', 'ach_cemetary', 'ach_allNotes_Balboa', 'ach_captureRareAnimal', 'ach_captureAnimal_10', 'ach_pufferKiller_10', 'ach_build_painter_200', 'ach_birdKiller_50', 'ach_mamaBearKill', 'ach_boarKiller_10', 'ach_sharkKiller_50', 'ach_build_foundation_1000', 'ach_build_painter_1000', 'ach_stoneBirdKiller_10', 'ach_captureAnimal_50', 'ach_pufferKiller_50', 'ach_ratKiller_50', 'ach_survivor_year', 'ach_gatherer_5000', 'ach_boarKiller_50', 'ach_bearKiller_50', 'ach_stoneBirdKiller_50', 'ach_Hidden_XXVI', 'ach_Hidden_XXV', 'ach_Hidden_XXIV', 'ach_Hidden_XXIII', 'ach_Hidden_XXII', 'ach_Hidden_XXI', 'ach_Hidden_XX', 'ach_Hidden_XIX', 'ach_Hidden_XVIII', 'ach_Hidden_XVII', 'ach_Hidden_XVI', 'ach_Hidden_XV', 'ach_Hidden_XIV', 'ach_Hidden_XIII', 'ach_Hidden_XII', 'ach_Hidden_XI', 'ach_Hidden_X', 'ach_Hidden_IX', 'ach_Hidden_VIII', 'ach_Hidden_VII', 'ach_Hidden VI', 'ach_Hidden_V', 'ach_Hidden_IV', 'ach_Hidden_III', 'ach_Hidden_II', 'ach_Hidden_I', 'TSP_BEATTHEGAME', 'TSP_WELCOMEBACK', 'TSP_JUMPING', 'TSP_ACHIEVEMENT', 'TSP_430', 'TSP_888', 'TSP_GOOUTSIDE', 'TSP_SPEED', 'TSP_UNACHIEVABLE', 'TSP_COMMITMENT']\n"
     ]
    }
   ],
   "source": [
    "#loop to get percentage of achievement completetion for each game\n",
    "achievess = []\n",
    "achnames = []\n",
    "\n",
    "for g_id in game_ids:\n",
    "        response = requests.get(queryurl + g_id + '&format=json')\n",
    "        responsej = response.json()\n",
    "        allachieves = responsej['achievementpercentages']['achievements']\n",
    "        #to get all achieves for each game\n",
    "        for each_achiev in allachieves:\n",
    "            achievess.append(each_achiev['percent'])       \n",
    "            achnames.append(each_achiev['name'])\n",
    "print(achnames)"
   ]
  },
  {
   "cell_type": "code",
   "execution_count": 25,
   "metadata": {},
   "outputs": [
    {
     "data": {
      "text/html": [
       "<div>\n",
       "<style scoped>\n",
       "    .dataframe tbody tr th:only-of-type {\n",
       "        vertical-align: middle;\n",
       "    }\n",
       "\n",
       "    .dataframe tbody tr th {\n",
       "        vertical-align: top;\n",
       "    }\n",
       "\n",
       "    .dataframe thead th {\n",
       "        text-align: right;\n",
       "    }\n",
       "</style>\n",
       "<table border=\"1\" class=\"dataframe\">\n",
       "  <thead>\n",
       "    <tr style=\"text-align: right;\">\n",
       "      <th></th>\n",
       "      <th>Achievement_Name</th>\n",
       "      <th>Complete_%</th>\n",
       "    </tr>\n",
       "  </thead>\n",
       "  <tbody>\n",
       "    <tr>\n",
       "      <th>0</th>\n",
       "      <td>worldmap</td>\n",
       "      <td>84.099998</td>\n",
       "    </tr>\n",
       "    <tr>\n",
       "      <th>1</th>\n",
       "      <td>trim</td>\n",
       "      <td>83.900002</td>\n",
       "    </tr>\n",
       "    <tr>\n",
       "      <th>2</th>\n",
       "      <td>fina</td>\n",
       "      <td>83.400002</td>\n",
       "    </tr>\n",
       "    <tr>\n",
       "      <th>3</th>\n",
       "      <td>weed</td>\n",
       "      <td>77.400002</td>\n",
       "    </tr>\n",
       "    <tr>\n",
       "      <th>4</th>\n",
       "      <td>mgs</td>\n",
       "      <td>65.800003</td>\n",
       "    </tr>\n",
       "  </tbody>\n",
       "</table>\n",
       "</div>"
      ],
      "text/plain": [
       "  Achievement_Name  Complete_%\n",
       "0         worldmap   84.099998\n",
       "1             trim   83.900002\n",
       "2             fina   83.400002\n",
       "3             weed   77.400002\n",
       "4              mgs   65.800003"
      ]
     },
     "execution_count": 25,
     "metadata": {},
     "output_type": "execute_result"
    }
   ],
   "source": [
    "achievements_all = pd.DataFrame(list(zip(achnames, achievess)), columns=['Achievement_Name', 'Complete_%'])\n",
    "achievements_all.head()"
   ]
  },
  {
   "cell_type": "code",
   "execution_count": null,
   "metadata": {},
   "outputs": [],
   "source": []
  }
 ],
 "metadata": {
  "kernelspec": {
   "display_name": "Python 3",
   "language": "python",
   "name": "python3"
  },
  "language_info": {
   "codemirror_mode": {
    "name": "ipython",
    "version": 3
   },
   "file_extension": ".py",
   "mimetype": "text/x-python",
   "name": "python",
   "nbconvert_exporter": "python",
   "pygments_lexer": "ipython3",
   "version": "3.7.6"
  }
 },
 "nbformat": 4,
 "nbformat_minor": 4
}
