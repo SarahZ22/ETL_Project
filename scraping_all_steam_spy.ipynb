{
 "cells": [
  {
   "cell_type": "code",
   "execution_count": 1,
   "metadata": {},
   "outputs": [],
   "source": [
    "#import dependencies\n",
    "import pandas as pd\n",
    "import requests\n",
    "from bs4 import BeautifulSoup"
   ]
  },
  {
   "cell_type": "code",
   "execution_count": 2,
   "metadata": {},
   "outputs": [],
   "source": [
    "#create a df\n",
    "list_of_columns = [\"appid\",\"Name\",\"Developer\",\"Publisher\",\"Owners\",\"Metascore\",\"Genre(s)\"]\n",
    "steam_spy_df = pd.DataFrame(columns=list_of_columns)\n",
    "\n",
    "#steam spy blocks automated web scraping so we need to pass it a header telling it that we are a human using a regular web browser\n",
    "header = {\n",
    "  \"User-Agent\": \"Mozilla/5.0 (X11; Linux x86_64) AppleWebKit/537.36 (KHTML, like Gecko) Chrome/50.0.2661.75 Safari/537.36\",\n",
    "  \"X-Requested-With\": \"XMLHttpRequest\"\n",
    "}\n",
    "\n",
    "#we need this later when looping through all genres\n",
    "stop = BeautifulSoup('''<br/>''', 'html.parser')\n",
    "stop_point = stop.find(\"br\")"
   ]
  },
  {
   "cell_type": "code",
   "execution_count": null,
   "metadata": {},
   "outputs": [
    {
     "name": "stdout",
     "output_type": "stream",
     "text": [
      "Trying appid #1\n",
      "Trying appid #2\n",
      "Trying appid #3\n",
      "Trying appid #4\n",
      "Trying appid #5\n"
     ]
    }
   ],
   "source": [
    "u = 1\n",
    "\n",
    "#loop through all steam appids?\n",
    "while u <= 1500000:\n",
    "    #print to screen what appid it's trying so you know it didn't crash\n",
    "    print(\"Trying appid #\" + str(u))\n",
    "    url = \"https://steamspy.com/app/\" + str(u)\n",
    "    r = requests.get(url, headers=header)\n",
    "    soup = BeautifulSoup(r.text, 'html.parser')\n",
    "    #pull title\n",
    "    title_raw = soup.find(\"h3\")\n",
    "    title = title_raw.get_text()\n",
    "    #if title is blank, don't save it to the DF\n",
    "    if title == \"\":\n",
    "        u = u + 1\n",
    "    else:\n",
    "        try:\n",
    "            #find developer\n",
    "            developer = soup.find(text=\"Developer:\")\n",
    "            developer_next = developer.parent.findNext()\n",
    "            developer_text = developer_next.get_text()\n",
    "            #find publisher\n",
    "            publisher = soup.find(text=\"Publisher:\")\n",
    "            publisher_next = publisher.parent.findNext()\n",
    "            publisher_text = publisher_next.get_text()\n",
    "            #find metascore\n",
    "            metascore = soup.find('strong', text=\"Metascore:\")\n",
    "            metascore_next = metascore.next_sibling.strip()\n",
    "            #find owners\n",
    "            owners = soup.find('strong', text=\"Owners\")\n",
    "            owners_next = owners.next_sibling.strip()\n",
    "            owners_next = owners_next[2:]\n",
    "            #find genres\n",
    "            genre = soup.find('strong', text=\"Genre:\")\n",
    "            genre_parent = genre.parent()\n",
    "            i = 13\n",
    "            end_of_line = False\n",
    "            list_of_genres = []\n",
    "            while end_of_line == False:\n",
    "                if genre_parent[i] == stop_point:\n",
    "                    end_of_line = True\n",
    "                else:\n",
    "                    list_of_genres.append(genre_parent[i].get_text())\n",
    "                    i = i+1\n",
    "            #save to df\n",
    "            steam_spy_df.append({\"appid\": u,\n",
    "                                 \"Name\": title,\n",
    "                                 \"Developer\": developer_text,\n",
    "                                 \"Publisher\": publisher_text,\n",
    "                                 \"Owners\": owners_next,\n",
    "                                 \"Metascore\": metascore_next,\n",
    "                                 \"Genre(s)\": list_of_genres}, ignore_index=True)\n",
    "            u = u + 1\n",
    "        except AttributeError:\n",
    "            print(\"Woops!\")\n",
    "            u = u + 1"
   ]
  },
  {
   "cell_type": "code",
   "execution_count": null,
   "metadata": {},
   "outputs": [],
   "source": [
    "steam_spy_df"
   ]
  }
 ],
 "metadata": {
  "kernelspec": {
   "display_name": "Python 3",
   "language": "python",
   "name": "python3"
  },
  "language_info": {
   "codemirror_mode": {
    "name": "ipython",
    "version": 3
   },
   "file_extension": ".py",
   "mimetype": "text/x-python",
   "name": "python",
   "nbconvert_exporter": "python",
   "pygments_lexer": "ipython3",
   "version": "3.7.6"
  }
 },
 "nbformat": 4,
 "nbformat_minor": 4
}
