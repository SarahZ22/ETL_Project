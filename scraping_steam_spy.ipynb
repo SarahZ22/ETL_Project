{
 "cells": [
  {
   "cell_type": "code",
   "execution_count": 6,
   "metadata": {},
   "outputs": [],
   "source": [
    "#import dependencies\n",
    "import pandas as pd\n",
    "import requests\n",
    "from bs4 import BeautifulSoup"
   ]
  },
  {
   "cell_type": "code",
   "execution_count": 7,
   "metadata": {},
   "outputs": [],
   "source": [
    "#steam spy url goes here\n",
    "url = \"https://steamspy.com/app/719040\""
   ]
  },
  {
   "cell_type": "code",
   "execution_count": 15,
   "metadata": {},
   "outputs": [],
   "source": [
    "#steam spy blocks automated web scraping so we need to pass it a header telling it that we are a human using a regular web browser\n",
    "header = {\n",
    "  \"User-Agent\": \"Mozilla/5.0 (X11; Linux x86_64) AppleWebKit/537.36 (KHTML, like Gecko) Chrome/50.0.2661.75 Safari/537.36\",\n",
    "  \"X-Requested-With\": \"XMLHttpRequest\"\n",
    "}\n",
    "\n",
    "#pull html\n",
    "r = requests.get(url, headers=header)\n",
    "\n",
    "#create our beautiful soup object\n",
    "soup = BeautifulSoup(r.text, 'html.parser')\n",
    "\n",
    "#we need this later when looping through all genres\n",
    "stop = BeautifulSoup('''<br/>''', 'html.parser')\n",
    "stop_point = stop.find(\"br\")"
   ]
  },
  {
   "cell_type": "code",
   "execution_count": 9,
   "metadata": {},
   "outputs": [
    {
     "name": "stdout",
     "output_type": "stream",
     "text": [
      "Wasteland 3\n"
     ]
    }
   ],
   "source": [
    "#find game title\n",
    "title_raw = soup.find(\"h3\")\n",
    "title = title_raw.get_text()\n",
    "print(title)"
   ]
  },
  {
   "cell_type": "code",
   "execution_count": 10,
   "metadata": {},
   "outputs": [
    {
     "name": "stdout",
     "output_type": "stream",
     "text": [
      "inXile Entertainment\n"
     ]
    }
   ],
   "source": [
    "#find the developer\n",
    "developer = soup.find(text=\"Developer:\")\n",
    "developer_next = developer.parent.findNext()\n",
    "developer_text = developer_next.get_text()\n",
    "print(developer_text)"
   ]
  },
  {
   "cell_type": "code",
   "execution_count": 11,
   "metadata": {},
   "outputs": [
    {
     "name": "stdout",
     "output_type": "stream",
     "text": [
      "inXile Entertainment\n"
     ]
    }
   ],
   "source": [
    "#find the publisher\n",
    "publisher = soup.find(text=\"Publisher:\")\n",
    "publisher_next = publisher.parent.findNext()\n",
    "publisher_text = publisher_next.get_text()\n",
    "print(publisher_text)"
   ]
  },
  {
   "cell_type": "code",
   "execution_count": 12,
   "metadata": {},
   "outputs": [
    {
     "name": "stdout",
     "output_type": "stream",
     "text": [
      "86%\n"
     ]
    }
   ],
   "source": [
    "#find the metascore\n",
    "metascore = soup.find('strong', text=\"Metascore:\")\n",
    "metascore_next = metascore.next_sibling.strip()\n",
    "print(metascore_next)"
   ]
  },
  {
   "cell_type": "code",
   "execution_count": 13,
   "metadata": {},
   "outputs": [
    {
     "name": "stdout",
     "output_type": "stream",
     "text": [
      "100,000 .. 200,000\n"
     ]
    }
   ],
   "source": [
    "#find the number of owners\n",
    "owners = soup.find('strong', text=\"Owners\")\n",
    "owners_next = owners.next_sibling.strip()\n",
    "owners_next = owners_next[2:]\n",
    "print(owners_next)"
   ]
  },
  {
   "cell_type": "code",
   "execution_count": 14,
   "metadata": {},
   "outputs": [
    {
     "ename": "NameError",
     "evalue": "name 'stop_point' is not defined",
     "output_type": "error",
     "traceback": [
      "\u001b[1;31m---------------------------------------------------------------------------\u001b[0m",
      "\u001b[1;31mNameError\u001b[0m                                 Traceback (most recent call last)",
      "\u001b[1;32m<ipython-input-14-d73d6beb4ac8>\u001b[0m in \u001b[0;36m<module>\u001b[1;34m\u001b[0m\n\u001b[0;32m      6\u001b[0m \u001b[0mlist_of_genres\u001b[0m \u001b[1;33m=\u001b[0m \u001b[1;33m[\u001b[0m\u001b[1;33m]\u001b[0m\u001b[1;33m\u001b[0m\u001b[1;33m\u001b[0m\u001b[0m\n\u001b[0;32m      7\u001b[0m \u001b[1;32mwhile\u001b[0m \u001b[0mend_of_line\u001b[0m \u001b[1;33m==\u001b[0m \u001b[1;32mFalse\u001b[0m\u001b[1;33m:\u001b[0m\u001b[1;33m\u001b[0m\u001b[1;33m\u001b[0m\u001b[0m\n\u001b[1;32m----> 8\u001b[1;33m         \u001b[1;32mif\u001b[0m \u001b[0mgenre_parent\u001b[0m\u001b[1;33m[\u001b[0m\u001b[0mi\u001b[0m\u001b[1;33m]\u001b[0m \u001b[1;33m==\u001b[0m \u001b[0mstop_point\u001b[0m\u001b[1;33m:\u001b[0m\u001b[1;33m\u001b[0m\u001b[1;33m\u001b[0m\u001b[0m\n\u001b[0m\u001b[0;32m      9\u001b[0m             \u001b[0mend_of_line\u001b[0m \u001b[1;33m=\u001b[0m \u001b[1;32mTrue\u001b[0m\u001b[1;33m\u001b[0m\u001b[1;33m\u001b[0m\u001b[0m\n\u001b[0;32m     10\u001b[0m         \u001b[1;32melse\u001b[0m\u001b[1;33m:\u001b[0m\u001b[1;33m\u001b[0m\u001b[1;33m\u001b[0m\u001b[0m\n",
      "\u001b[1;31mNameError\u001b[0m: name 'stop_point' is not defined"
     ]
    }
   ],
   "source": [
    "#find genre(s)\n",
    "genre = soup.find('strong', text=\"Genre:\")\n",
    "genre_parent = genre.parent()\n",
    "i = 13\n",
    "end_of_line = False\n",
    "list_of_genres = []\n",
    "while end_of_line == False:\n",
    "        if genre_parent[i] == stop_point:\n",
    "            end_of_line = True\n",
    "        else:\n",
    "            list_of_genres.append(genre_parent[i].get_text())\n",
    "            i = i+1\n",
    "\n",
    "list_of_genres"
   ]
  }
 ],
 "metadata": {
  "kernelspec": {
   "display_name": "Python 3",
   "language": "python",
   "name": "python3"
  },
  "language_info": {
   "codemirror_mode": {
    "name": "ipython",
    "version": 3
   },
   "file_extension": ".py",
   "mimetype": "text/x-python",
   "name": "python",
   "nbconvert_exporter": "python",
   "pygments_lexer": "ipython3",
   "version": "3.7.6"
  }
 },
 "nbformat": 4,
 "nbformat_minor": 4
}
